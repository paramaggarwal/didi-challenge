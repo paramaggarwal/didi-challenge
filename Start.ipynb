{
 "cells": [
  {
   "cell_type": "code",
   "execution_count": 56,
   "metadata": {
    "collapsed": false
   },
   "outputs": [
    {
     "name": "stdout",
     "output_type": "stream",
     "text": [
      "Dataset has 72064 labels in total.\n",
      "Dataset has 66389 car/truck vehicle labels.\n"
     ]
    }
   ],
   "source": [
    "import pandas as pd\n",
    "\n",
    "data_directory = 'object-detection-crowdai'\n",
    "\n",
    "label_file = pd.read_csv(data_directory + '/labels.csv')\n",
    "label_file = label_file.drop('Preview URL', 1)\n",
    "print('Dataset has', len(label_file), 'labels in total.')\n",
    "\n",
    "label_file = label_file[(label_file['Label'] == 'Car') | (label_file['Label'] == 'Truck')]\n",
    "label_file = label_file.reset_index().drop('index', 1)\n",
    "print('Dataset has', len(label_file), 'car/truck vehicle labels.')\n",
    "\n",
    "label_file['File_Path'] =  data_directory + '/' + df_vehicles1['Frame']\n",
    "label_file = label_file.drop('Frame', 1)"
   ]
  },
  {
   "cell_type": "code",
   "execution_count": 57,
   "metadata": {
    "collapsed": false
   },
   "outputs": [
    {
     "data": {
      "text/html": [
       "<div>\n",
       "<table border=\"1\" class=\"dataframe\">\n",
       "  <thead>\n",
       "    <tr style=\"text-align: right;\">\n",
       "      <th></th>\n",
       "      <th>xmin</th>\n",
       "      <th>xmax</th>\n",
       "      <th>ymin</th>\n",
       "      <th>ymax</th>\n",
       "      <th>Label</th>\n",
       "      <th>File_Path</th>\n",
       "    </tr>\n",
       "  </thead>\n",
       "  <tbody>\n",
       "    <tr>\n",
       "      <th>0</th>\n",
       "      <td>785</td>\n",
       "      <td>533</td>\n",
       "      <td>905</td>\n",
       "      <td>644</td>\n",
       "      <td>Car</td>\n",
       "      <td>object-detection-crowdai/1479498371963069978.jpg</td>\n",
       "    </tr>\n",
       "    <tr>\n",
       "      <th>1</th>\n",
       "      <td>89</td>\n",
       "      <td>551</td>\n",
       "      <td>291</td>\n",
       "      <td>680</td>\n",
       "      <td>Car</td>\n",
       "      <td>object-detection-crowdai/1479498371963069978.jpg</td>\n",
       "    </tr>\n",
       "    <tr>\n",
       "      <th>2</th>\n",
       "      <td>268</td>\n",
       "      <td>546</td>\n",
       "      <td>383</td>\n",
       "      <td>650</td>\n",
       "      <td>Car</td>\n",
       "      <td>object-detection-crowdai/1479498371963069978.jpg</td>\n",
       "    </tr>\n",
       "    <tr>\n",
       "      <th>3</th>\n",
       "      <td>455</td>\n",
       "      <td>522</td>\n",
       "      <td>548</td>\n",
       "      <td>615</td>\n",
       "      <td>Truck</td>\n",
       "      <td>object-detection-crowdai/1479498371963069978.jpg</td>\n",
       "    </tr>\n",
       "    <tr>\n",
       "      <th>4</th>\n",
       "      <td>548</td>\n",
       "      <td>522</td>\n",
       "      <td>625</td>\n",
       "      <td>605</td>\n",
       "      <td>Truck</td>\n",
       "      <td>object-detection-crowdai/1479498371963069978.jpg</td>\n",
       "    </tr>\n",
       "  </tbody>\n",
       "</table>\n",
       "</div>"
      ],
      "text/plain": [
       "   xmin  xmax  ymin  ymax  Label  \\\n",
       "0   785   533   905   644    Car   \n",
       "1    89   551   291   680    Car   \n",
       "2   268   546   383   650    Car   \n",
       "3   455   522   548   615  Truck   \n",
       "4   548   522   625   605  Truck   \n",
       "\n",
       "                                          File_Path  \n",
       "0  object-detection-crowdai/1479498371963069978.jpg  \n",
       "1  object-detection-crowdai/1479498371963069978.jpg  \n",
       "2  object-detection-crowdai/1479498371963069978.jpg  \n",
       "3  object-detection-crowdai/1479498371963069978.jpg  \n",
       "4  object-detection-crowdai/1479498371963069978.jpg  "
      ]
     },
     "execution_count": 57,
     "metadata": {},
     "output_type": "execute_result"
    }
   ],
   "source": [
    "label_file.head()"
   ]
  },
  {
   "cell_type": "code",
   "execution_count": 58,
   "metadata": {
    "collapsed": false
   },
   "outputs": [
    {
     "data": {
      "text/html": [
       "<div>\n",
       "<table border=\"1\" class=\"dataframe\">\n",
       "  <thead>\n",
       "    <tr style=\"text-align: right;\">\n",
       "      <th></th>\n",
       "      <th>xmin</th>\n",
       "      <th>xmax</th>\n",
       "      <th>ymin</th>\n",
       "      <th>ymax</th>\n",
       "      <th>Label</th>\n",
       "      <th>File_Path</th>\n",
       "    </tr>\n",
       "  </thead>\n",
       "  <tbody>\n",
       "    <tr>\n",
       "      <th>66384</th>\n",
       "      <td>958</td>\n",
       "      <td>559</td>\n",
       "      <td>1045</td>\n",
       "      <td>621</td>\n",
       "      <td>Car</td>\n",
       "      <td>NaN</td>\n",
       "    </tr>\n",
       "    <tr>\n",
       "      <th>66385</th>\n",
       "      <td>1038</td>\n",
       "      <td>558</td>\n",
       "      <td>1122</td>\n",
       "      <td>630</td>\n",
       "      <td>Car</td>\n",
       "      <td>NaN</td>\n",
       "    </tr>\n",
       "    <tr>\n",
       "      <th>66386</th>\n",
       "      <td>667</td>\n",
       "      <td>558</td>\n",
       "      <td>747</td>\n",
       "      <td>626</td>\n",
       "      <td>Car</td>\n",
       "      <td>object-detection-crowdai/1479505716961217368.jpg</td>\n",
       "    </tr>\n",
       "    <tr>\n",
       "      <th>66387</th>\n",
       "      <td>730</td>\n",
       "      <td>568</td>\n",
       "      <td>818</td>\n",
       "      <td>613</td>\n",
       "      <td>Car</td>\n",
       "      <td>object-detection-crowdai/1479505716961217368.jpg</td>\n",
       "    </tr>\n",
       "    <tr>\n",
       "      <th>66388</th>\n",
       "      <td>435</td>\n",
       "      <td>551</td>\n",
       "      <td>532</td>\n",
       "      <td>589</td>\n",
       "      <td>Car</td>\n",
       "      <td>object-detection-crowdai/1479505716961217368.jpg</td>\n",
       "    </tr>\n",
       "  </tbody>\n",
       "</table>\n",
       "</div>"
      ],
      "text/plain": [
       "       xmin  xmax  ymin  ymax Label  \\\n",
       "66384   958   559  1045   621   Car   \n",
       "66385  1038   558  1122   630   Car   \n",
       "66386   667   558   747   626   Car   \n",
       "66387   730   568   818   613   Car   \n",
       "66388   435   551   532   589   Car   \n",
       "\n",
       "                                              File_Path  \n",
       "66384                                               NaN  \n",
       "66385                                               NaN  \n",
       "66386  object-detection-crowdai/1479505716961217368.jpg  \n",
       "66387  object-detection-crowdai/1479505716961217368.jpg  \n",
       "66388  object-detection-crowdai/1479505716961217368.jpg  "
      ]
     },
     "execution_count": 58,
     "metadata": {},
     "output_type": "execute_result"
    }
   ],
   "source": [
    "label_file.tail()"
   ]
  },
  {
   "cell_type": "code",
   "execution_count": null,
   "metadata": {
    "collapsed": true
   },
   "outputs": [],
   "source": []
  }
 ],
 "metadata": {
  "kernelspec": {
   "display_name": "Python 3",
   "language": "python",
   "name": "python3"
  },
  "language_info": {
   "codemirror_mode": {
    "name": "ipython",
    "version": 3
   },
   "file_extension": ".py",
   "mimetype": "text/x-python",
   "name": "python",
   "nbconvert_exporter": "python",
   "pygments_lexer": "ipython3",
   "version": "3.5.2"
  },
  "widgets": {
   "state": {},
   "version": "1.1.2"
  }
 },
 "nbformat": 4,
 "nbformat_minor": 2
}
